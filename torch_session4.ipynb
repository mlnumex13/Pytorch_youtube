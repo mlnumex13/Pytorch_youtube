{
  "nbformat": 4,
  "nbformat_minor": 0,
  "metadata": {
    "colab": {
      "provenance": []
    },
    "kernelspec": {
      "name": "python3",
      "display_name": "Python 3"
    },
    "language_info": {
      "name": "python"
    }
  },
  "cells": [
    {
      "cell_type": "code",
      "source": [
        "from sklearn.datasets import make_regression\n",
        "\n",
        "import torch\n",
        "import torch.nn as nn\n",
        "from torch.utils.data import Dataset, DataLoader\n",
        "\n",
        "from sklearn.model_selection import train_test_split\n"
      ],
      "metadata": {
        "id": "FCgFnAigcREx"
      },
      "execution_count": null,
      "outputs": []
    },
    {
      "cell_type": "code",
      "source": [
        "X,y = make_regression(n_samples  = 10000,\n",
        "                      n_features = 15,\n",
        "                      noise      = 0.3\n",
        "                      )"
      ],
      "metadata": {
        "id": "l0KkTq3e12EI"
      },
      "execution_count": null,
      "outputs": []
    },
    {
      "cell_type": "code",
      "source": [
        "X.shape, y.shape"
      ],
      "metadata": {
        "colab": {
          "base_uri": "https://localhost:8080/"
        },
        "id": "jLRDNbba2DEO",
        "outputId": "ee518c32-aedf-40be-f797-76b7390d3a63"
      },
      "execution_count": null,
      "outputs": [
        {
          "output_type": "execute_result",
          "data": {
            "text/plain": [
              "((10000, 15), (10000,))"
            ]
          },
          "metadata": {},
          "execution_count": 54
        }
      ]
    },
    {
      "cell_type": "code",
      "source": [
        "class CustomDataset(Dataset):\n",
        "\n",
        "    def __init__(self,X,y):\n",
        "        self.X = torch.tensor(X, dtype= torch.float32)\n",
        "        self.y = torch.tensor(y, dtype= torch.float32).view(-1,1)\n",
        "\n",
        "    def __len__(self):\n",
        "        return len(self.y)\n",
        "\n",
        "    def __getitem__(self,idx):\n",
        "        return self.X[idx], self.y[idx]"
      ],
      "metadata": {
        "id": "xox06itO2Eei"
      },
      "execution_count": null,
      "outputs": []
    },
    {
      "cell_type": "code",
      "source": [
        "X_train, X_valid, y_train, y_valid = train_test_split(X,y, test_size=0.2, random_state=13)"
      ],
      "metadata": {
        "id": "Uv2RMr9R29Np"
      },
      "execution_count": null,
      "outputs": []
    },
    {
      "cell_type": "code",
      "source": [
        "train_dataset = CustomDataset(X_train,y_train)\n",
        "test_dataset  = CustomDataset(X_valid,y_valid)"
      ],
      "metadata": {
        "id": "b2Lbf8AT3Nqr"
      },
      "execution_count": null,
      "outputs": []
    },
    {
      "cell_type": "code",
      "source": [
        "train_data_loader = DataLoader(train_dataset, batch_size = 64, shuffle = True)\n",
        "test_data_loader  = DataLoader(test_dataset, batch_size = 64, shuffle = False)"
      ],
      "metadata": {
        "id": "VVDR2b_w3YZm"
      },
      "execution_count": null,
      "outputs": []
    },
    {
      "cell_type": "code",
      "source": [
        "len(train_data_loader),len(test_data_loader)"
      ],
      "metadata": {
        "colab": {
          "base_uri": "https://localhost:8080/"
        },
        "id": "j76EBwOt3wt5",
        "outputId": "e9ce9181-39e4-4a26-c052-1c064e6f0475"
      },
      "execution_count": null,
      "outputs": [
        {
          "output_type": "execute_result",
          "data": {
            "text/plain": [
              "(125, 32)"
            ]
          },
          "metadata": {},
          "execution_count": 59
        }
      ]
    },
    {
      "cell_type": "code",
      "source": [
        "class TabularRegression(nn.Module):\n",
        "\n",
        "    def __init__(self,input_dim, output_dim):\n",
        "\n",
        "        super(TabularRegression,self).__init__()\n",
        "\n",
        "        self.fc = nn.Linear(input_dim,output_dim, dtype = torch.float32)\n",
        "\n",
        "    def forward(self,x):\n",
        "        return self.fc(x)"
      ],
      "metadata": {
        "id": "n8RLsswh3-rE"
      },
      "execution_count": null,
      "outputs": []
    },
    {
      "cell_type": "code",
      "source": [
        "model       = TabularRegression(15,1)\n",
        "criterion   = nn.MSELoss(reduction = 'sum')\n",
        "optimizer   = torch.optim.SGD(model.parameters(), lr=0.0001)\n",
        "num_epochs  = 10"
      ],
      "metadata": {
        "id": "vmLb_HuM4DGx"
      },
      "execution_count": null,
      "outputs": []
    },
    {
      "cell_type": "code",
      "source": [
        "for epoch in range(num_epochs):\n",
        "\n",
        "    model.train()\n",
        "    train_loss = 0.0\n",
        "\n",
        "    for batch in train_data_loader:\n",
        "        inputs,targets = batch\n",
        "        optimizer.zero_grad()\n",
        "        outputs = model(inputs)\n",
        "        loss    = criterion(outputs,targets)\n",
        "        loss.backward()\n",
        "        optimizer.step()\n",
        "\n",
        "        train_loss += loss.item()\n",
        "\n",
        "    model.eval()\n",
        "    valid_loss = 0.0\n",
        "    with torch.no_grad():\n",
        "        for batch in test_data_loader:\n",
        "            inputs,targets = batch\n",
        "            outputs = model(inputs)\n",
        "            loss = criterion(targets,outputs)\n",
        "            valid_loss += loss.item()\n",
        "\n",
        "\n",
        "    train_loss = train_loss/len(train_dataset)\n",
        "    valid_loss = valid_loss/len(test_dataset)\n",
        "\n",
        "\n",
        "    print(f'Epoch = {epoch+1}, train loss = {train_loss} and validation loss = {valid_loss}')"
      ],
      "metadata": {
        "colab": {
          "base_uri": "https://localhost:8080/"
        },
        "id": "9wSk9W1N5kBA",
        "outputId": "dfeceed8-6157-482a-bf20-c6c058080ed0"
      },
      "execution_count": null,
      "outputs": [
        {
          "output_type": "stream",
          "name": "stdout",
          "text": [
            "Epoch = 1, train loss = 5164.699609863282 and validation loss = 655.0061958007813\n",
            "Epoch = 2, train loss = 191.37634432983398 and validation loss = 25.020505569458006\n",
            "Epoch = 3, train loss = 7.373380059719086 and validation loss = 1.0622448148727417\n",
            "Epoch = 4, train loss = 0.3793655114173889 and validation loss = 0.1283458058834076\n",
            "Epoch = 5, train loss = 0.10539611965417862 and validation loss = 0.0926223908662796\n",
            "Epoch = 6, train loss = 0.094540382117033 and validation loss = 0.09151717239618301\n",
            "Epoch = 7, train loss = 0.09409736174345017 and validation loss = 0.09159369385242462\n",
            "Epoch = 8, train loss = 0.0940742946267128 and validation loss = 0.09157053434848786\n",
            "Epoch = 9, train loss = 0.09406748303771019 and validation loss = 0.09148623710870743\n",
            "Epoch = 10, train loss = 0.09406366309523582 and validation loss = 0.0915279860496521\n"
          ]
        }
      ]
    },
    {
      "cell_type": "code",
      "source": [],
      "metadata": {
        "id": "GBdEFA076hV9"
      },
      "execution_count": null,
      "outputs": []
    }
  ]
}