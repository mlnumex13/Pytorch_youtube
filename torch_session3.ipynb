{
  "nbformat": 4,
  "nbformat_minor": 0,
  "metadata": {
    "colab": {
      "provenance": []
    },
    "kernelspec": {
      "name": "python3",
      "display_name": "Python 3"
    },
    "language_info": {
      "name": "python"
    }
  },
  "cells": [
    {
      "cell_type": "code",
      "execution_count": null,
      "metadata": {
        "id": "05-EH3m5tadA"
      },
      "outputs": [],
      "source": [
        "import numpy as np\n",
        "import pandas as pd\n",
        "import matplotlib.pyplot as plt\n",
        "import plotly.express as px\n",
        "\n",
        "import torch\n",
        "import torch.nn as nn\n",
        "\n",
        "from sklearn.datasets import make_blobs\n",
        "\n",
        "from sklearn.model_selection import train_test_split"
      ]
    },
    {
      "cell_type": "code",
      "source": [
        "X,y = make_blobs(n_samples =4000, centers=2, n_features = 5, random_state = 13, cluster_std = 3)"
      ],
      "metadata": {
        "id": "ImcncfjWt0ca"
      },
      "execution_count": null,
      "outputs": []
    },
    {
      "cell_type": "code",
      "source": [
        "df = pd.DataFrame(X,columns=[f'feat_{i+1}' for i in range(5)])\n",
        "df['Target'] = y\n",
        "df.sample(6)"
      ],
      "metadata": {
        "colab": {
          "base_uri": "https://localhost:8080/",
          "height": 237
        },
        "id": "Vp5G7H_kt2cL",
        "outputId": "cf554b30-3982-4f36-ed7e-784748f27959"
      },
      "execution_count": null,
      "outputs": [
        {
          "output_type": "execute_result",
          "data": {
            "text/plain": [
              "        feat_1    feat_2     feat_3     feat_4     feat_5  Target\n",
              "1372  7.268641 -4.271387   5.071772  12.881156   7.658032       0\n",
              "1099  5.448699 -3.074028   2.627482   9.245147  11.624333       0\n",
              "357   8.065075 -5.161284  10.084474  12.107572  11.508151       0\n",
              "1467 -3.099572  5.998640   6.705946   5.004809   2.771506       1\n",
              "649   6.992758 -3.185975   4.559791   9.305803   8.102811       0\n",
              "2600  4.070127  0.305646   8.968995   2.169626  -0.252477       1"
            ],
            "text/html": [
              "\n",
              "  <div id=\"df-6d1b16b9-c9c1-4afd-b5bd-78aa77102fe1\">\n",
              "    <div class=\"colab-df-container\">\n",
              "      <div>\n",
              "<style scoped>\n",
              "    .dataframe tbody tr th:only-of-type {\n",
              "        vertical-align: middle;\n",
              "    }\n",
              "\n",
              "    .dataframe tbody tr th {\n",
              "        vertical-align: top;\n",
              "    }\n",
              "\n",
              "    .dataframe thead th {\n",
              "        text-align: right;\n",
              "    }\n",
              "</style>\n",
              "<table border=\"1\" class=\"dataframe\">\n",
              "  <thead>\n",
              "    <tr style=\"text-align: right;\">\n",
              "      <th></th>\n",
              "      <th>feat_1</th>\n",
              "      <th>feat_2</th>\n",
              "      <th>feat_3</th>\n",
              "      <th>feat_4</th>\n",
              "      <th>feat_5</th>\n",
              "      <th>Target</th>\n",
              "    </tr>\n",
              "  </thead>\n",
              "  <tbody>\n",
              "    <tr>\n",
              "      <th>1372</th>\n",
              "      <td>7.268641</td>\n",
              "      <td>-4.271387</td>\n",
              "      <td>5.071772</td>\n",
              "      <td>12.881156</td>\n",
              "      <td>7.658032</td>\n",
              "      <td>0</td>\n",
              "    </tr>\n",
              "    <tr>\n",
              "      <th>1099</th>\n",
              "      <td>5.448699</td>\n",
              "      <td>-3.074028</td>\n",
              "      <td>2.627482</td>\n",
              "      <td>9.245147</td>\n",
              "      <td>11.624333</td>\n",
              "      <td>0</td>\n",
              "    </tr>\n",
              "    <tr>\n",
              "      <th>357</th>\n",
              "      <td>8.065075</td>\n",
              "      <td>-5.161284</td>\n",
              "      <td>10.084474</td>\n",
              "      <td>12.107572</td>\n",
              "      <td>11.508151</td>\n",
              "      <td>0</td>\n",
              "    </tr>\n",
              "    <tr>\n",
              "      <th>1467</th>\n",
              "      <td>-3.099572</td>\n",
              "      <td>5.998640</td>\n",
              "      <td>6.705946</td>\n",
              "      <td>5.004809</td>\n",
              "      <td>2.771506</td>\n",
              "      <td>1</td>\n",
              "    </tr>\n",
              "    <tr>\n",
              "      <th>649</th>\n",
              "      <td>6.992758</td>\n",
              "      <td>-3.185975</td>\n",
              "      <td>4.559791</td>\n",
              "      <td>9.305803</td>\n",
              "      <td>8.102811</td>\n",
              "      <td>0</td>\n",
              "    </tr>\n",
              "    <tr>\n",
              "      <th>2600</th>\n",
              "      <td>4.070127</td>\n",
              "      <td>0.305646</td>\n",
              "      <td>8.968995</td>\n",
              "      <td>2.169626</td>\n",
              "      <td>-0.252477</td>\n",
              "      <td>1</td>\n",
              "    </tr>\n",
              "  </tbody>\n",
              "</table>\n",
              "</div>\n",
              "      <button class=\"colab-df-convert\" onclick=\"convertToInteractive('df-6d1b16b9-c9c1-4afd-b5bd-78aa77102fe1')\"\n",
              "              title=\"Convert this dataframe to an interactive table.\"\n",
              "              style=\"display:none;\">\n",
              "        \n",
              "  <svg xmlns=\"http://www.w3.org/2000/svg\" height=\"24px\"viewBox=\"0 0 24 24\"\n",
              "       width=\"24px\">\n",
              "    <path d=\"M0 0h24v24H0V0z\" fill=\"none\"/>\n",
              "    <path d=\"M18.56 5.44l.94 2.06.94-2.06 2.06-.94-2.06-.94-.94-2.06-.94 2.06-2.06.94zm-11 1L8.5 8.5l.94-2.06 2.06-.94-2.06-.94L8.5 2.5l-.94 2.06-2.06.94zm10 10l.94 2.06.94-2.06 2.06-.94-2.06-.94-.94-2.06-.94 2.06-2.06.94z\"/><path d=\"M17.41 7.96l-1.37-1.37c-.4-.4-.92-.59-1.43-.59-.52 0-1.04.2-1.43.59L10.3 9.45l-7.72 7.72c-.78.78-.78 2.05 0 2.83L4 21.41c.39.39.9.59 1.41.59.51 0 1.02-.2 1.41-.59l7.78-7.78 2.81-2.81c.8-.78.8-2.07 0-2.86zM5.41 20L4 18.59l7.72-7.72 1.47 1.35L5.41 20z\"/>\n",
              "  </svg>\n",
              "      </button>\n",
              "      \n",
              "  <style>\n",
              "    .colab-df-container {\n",
              "      display:flex;\n",
              "      flex-wrap:wrap;\n",
              "      gap: 12px;\n",
              "    }\n",
              "\n",
              "    .colab-df-convert {\n",
              "      background-color: #E8F0FE;\n",
              "      border: none;\n",
              "      border-radius: 50%;\n",
              "      cursor: pointer;\n",
              "      display: none;\n",
              "      fill: #1967D2;\n",
              "      height: 32px;\n",
              "      padding: 0 0 0 0;\n",
              "      width: 32px;\n",
              "    }\n",
              "\n",
              "    .colab-df-convert:hover {\n",
              "      background-color: #E2EBFA;\n",
              "      box-shadow: 0px 1px 2px rgba(60, 64, 67, 0.3), 0px 1px 3px 1px rgba(60, 64, 67, 0.15);\n",
              "      fill: #174EA6;\n",
              "    }\n",
              "\n",
              "    [theme=dark] .colab-df-convert {\n",
              "      background-color: #3B4455;\n",
              "      fill: #D2E3FC;\n",
              "    }\n",
              "\n",
              "    [theme=dark] .colab-df-convert:hover {\n",
              "      background-color: #434B5C;\n",
              "      box-shadow: 0px 1px 3px 1px rgba(0, 0, 0, 0.15);\n",
              "      filter: drop-shadow(0px 1px 2px rgba(0, 0, 0, 0.3));\n",
              "      fill: #FFFFFF;\n",
              "    }\n",
              "  </style>\n",
              "\n",
              "      <script>\n",
              "        const buttonEl =\n",
              "          document.querySelector('#df-6d1b16b9-c9c1-4afd-b5bd-78aa77102fe1 button.colab-df-convert');\n",
              "        buttonEl.style.display =\n",
              "          google.colab.kernel.accessAllowed ? 'block' : 'none';\n",
              "\n",
              "        async function convertToInteractive(key) {\n",
              "          const element = document.querySelector('#df-6d1b16b9-c9c1-4afd-b5bd-78aa77102fe1');\n",
              "          const dataTable =\n",
              "            await google.colab.kernel.invokeFunction('convertToInteractive',\n",
              "                                                     [key], {});\n",
              "          if (!dataTable) return;\n",
              "\n",
              "          const docLinkHtml = 'Like what you see? Visit the ' +\n",
              "            '<a target=\"_blank\" href=https://colab.research.google.com/notebooks/data_table.ipynb>data table notebook</a>'\n",
              "            + ' to learn more about interactive tables.';\n",
              "          element.innerHTML = '';\n",
              "          dataTable['output_type'] = 'display_data';\n",
              "          await google.colab.output.renderOutput(dataTable, element);\n",
              "          const docLink = document.createElement('div');\n",
              "          docLink.innerHTML = docLinkHtml;\n",
              "          element.appendChild(docLink);\n",
              "        }\n",
              "      </script>\n",
              "    </div>\n",
              "  </div>\n",
              "  "
            ]
          },
          "metadata": {},
          "execution_count": 3
        }
      ]
    },
    {
      "cell_type": "code",
      "source": [
        "df['Target'].value_counts(normalize=True)"
      ],
      "metadata": {
        "colab": {
          "base_uri": "https://localhost:8080/"
        },
        "id": "bYKJdyEvt9GE",
        "outputId": "1a26a9ae-4434-4642-d492-ec3c8fee84b2"
      },
      "execution_count": null,
      "outputs": [
        {
          "output_type": "execute_result",
          "data": {
            "text/plain": [
              "0    0.5\n",
              "1    0.5\n",
              "Name: Target, dtype: float64"
            ]
          },
          "metadata": {},
          "execution_count": 4
        }
      ]
    },
    {
      "cell_type": "code",
      "source": [
        "X_train, X_test, y_train, y_test = train_test_split(X,y,random_state=13, test_size=0.2)"
      ],
      "metadata": {
        "id": "VMR38YXfuG40"
      },
      "execution_count": null,
      "outputs": []
    },
    {
      "cell_type": "code",
      "source": [
        "X_train = torch.from_numpy(X_train)\n",
        "X_test  = torch.from_numpy(X_test)\n",
        "Y_train = torch.from_numpy(y_train).view(-1,1).double()\n",
        "Y_test = torch.from_numpy(y_test).view(-1,1).double()\n",
        "\n",
        "X_train.shape,X_test.shape,Y_train.shape,Y_test.shape"
      ],
      "metadata": {
        "colab": {
          "base_uri": "https://localhost:8080/"
        },
        "id": "1YQz8gbwv2D4",
        "outputId": "90e2043a-818d-4cd1-b66f-11eb0be24b34"
      },
      "execution_count": null,
      "outputs": [
        {
          "output_type": "execute_result",
          "data": {
            "text/plain": [
              "(torch.Size([3200, 5]),\n",
              " torch.Size([800, 5]),\n",
              " torch.Size([3200, 1]),\n",
              " torch.Size([800, 1]))"
            ]
          },
          "metadata": {},
          "execution_count": 6
        }
      ]
    },
    {
      "cell_type": "code",
      "source": [
        "X_train.dtype,X_test.dtype,Y_train.dtype"
      ],
      "metadata": {
        "colab": {
          "base_uri": "https://localhost:8080/"
        },
        "id": "nX3xuQdEwt-6",
        "outputId": "e7a5648b-3854-468e-8671-e7cc63afa4a5"
      },
      "execution_count": null,
      "outputs": [
        {
          "output_type": "execute_result",
          "data": {
            "text/plain": [
              "(torch.float64, torch.float64, torch.float64)"
            ]
          },
          "metadata": {},
          "execution_count": 10
        }
      ]
    },
    {
      "cell_type": "code",
      "source": [
        "class TabularClassification(nn.Module):\n",
        "\n",
        "    def __init__(self,input_dim,output_dim):\n",
        "        super(TabularClassification,self).__init__()\n",
        "\n",
        "        self.fc  = nn.Linear(input_dim, output_dim, dtype= torch.float64)\n",
        "        self.sig = nn.Sigmoid()\n",
        "\n",
        "    def forward(self,x):\n",
        "\n",
        "        out = self.fc(x)\n",
        "        out = self.sig(out)\n",
        "\n",
        "        return out"
      ],
      "metadata": {
        "id": "-3wx7QWGwLwz"
      },
      "execution_count": null,
      "outputs": []
    },
    {
      "cell_type": "code",
      "source": [
        "model = TabularClassification(5,1)\n",
        "criterion = nn.BCELoss()\n",
        "optimizer = torch.optim.SGD(model.parameters(),lr= 0.001)\n",
        "\n",
        "for epochs in range(1000):\n",
        "\n",
        "\n",
        "    model.train()\n",
        "    output = model(X_train)    ## forward pass on train data\n",
        "    loss   = criterion(output.view(-1,1),Y_train)\n",
        "    optimizer.zero_grad()\n",
        "    loss.backward()\n",
        "    optimizer.step()\n",
        "\n",
        "    train_loss = loss.item()\n",
        "\n",
        "    if epochs%10==0:\n",
        "\n",
        "        model.eval()\n",
        "\n",
        "        with torch.no_grad():\n",
        "            outputs = model(X_test)\n",
        "            valid_loss = criterion(outputs.view(-1,1),Y_test).item()\n",
        "\n",
        "        print(f\"Epochs {epochs}, Train loss = {train_loss}, validation loss = {valid_loss}\")\n",
        "\n",
        "\n"
      ],
      "metadata": {
        "colab": {
          "base_uri": "https://localhost:8080/"
        },
        "id": "4eBXbK33xB8B",
        "outputId": "54cae6fc-b9f8-4316-b942-daaa7d8c7c28"
      },
      "execution_count": null,
      "outputs": [
        {
          "output_type": "stream",
          "name": "stdout",
          "text": [
            "Epochs 0, Train loss = 1.0121051028349566, validation loss = 1.0241107207849003\n",
            "Epochs 10, Train loss = 0.9606195079480088, validation loss = 0.9739906233450967\n",
            "Epochs 20, Train loss = 0.9126623563091201, validation loss = 0.9272167450421844\n",
            "Epochs 30, Train loss = 0.8680123368376697, validation loss = 0.8836029613412592\n",
            "Epochs 40, Train loss = 0.8264767245197474, validation loss = 0.8429809655778125\n",
            "Epochs 50, Train loss = 0.7878761483774808, validation loss = 0.8051887593764782\n",
            "Epochs 60, Train loss = 0.7520368386693105, validation loss = 0.7700654764960396\n",
            "Epochs 70, Train loss = 0.7187874612434428, validation loss = 0.7374499043685917\n",
            "Epochs 80, Train loss = 0.6879586391758162, validation loss = 0.7071810340436088\n",
            "Epochs 90, Train loss = 0.6593838846374507, validation loss = 0.6790995736475495\n",
            "Epochs 100, Train loss = 0.6329010983205395, validation loss = 0.653049759288381\n",
            "Epochs 110, Train loss = 0.6083541175081801, validation loss = 0.628881070896405\n",
            "Epochs 120, Train loss = 0.5855940315230306, validation loss = 0.606449647992904\n",
            "Epochs 130, Train loss = 0.56448014574135, validation loss = 0.5856193246609616\n",
            "Epochs 140, Train loss = 0.5448805759920557, validation loss = 0.5662622809247363\n",
            "Epochs 150, Train loss = 0.5266725100204808, validation loss = 0.5482593524167482\n",
            "Epochs 160, Train loss = 0.5097421968121877, validation loss = 0.5315000614438309\n",
            "Epochs 170, Train loss = 0.49398472986706304, validation loss = 0.5158824377629359\n",
            "Epochs 180, Train loss = 0.47930368551467367, validation loss = 0.5013126924188004\n",
            "Epochs 190, Train loss = 0.4656106676982263, validation loss = 0.4877047976197232\n",
            "Epochs 200, Train loss = 0.45282479974917694, validation loss = 0.4749800134809356\n",
            "Epochs 210, Train loss = 0.4408721934026542, validation loss = 0.46306639102053215\n",
            "Epochs 220, Train loss = 0.4296854165363211, validation loss = 0.451898271382192\n",
            "Epochs 230, Train loss = 0.4192029741191219, validation loss = 0.4414157942731302\n",
            "Epochs 240, Train loss = 0.4093688115634002, validation loss = 0.4315644238148467\n",
            "Epochs 250, Train loss = 0.4001318458507942, validation loss = 0.42229449688904225\n",
            "Epochs 260, Train loss = 0.39144552715522807, validation loss = 0.41356079706873017\n",
            "Epochs 270, Train loss = 0.38326743192348056, validation loss = 0.4053221559104825\n",
            "Epochs 280, Train loss = 0.375558887240502, validation loss = 0.397541082453319\n",
            "Epochs 290, Train loss = 0.36828462560042297, validation loss = 0.390183421058763\n",
            "Epochs 300, Train loss = 0.36141246877650635, validation loss = 0.38321803715878955\n",
            "Epochs 310, Train loss = 0.35491303923273565, validation loss = 0.37661653002498524\n",
            "Epochs 320, Train loss = 0.34875949738146433, validation loss = 0.37035297132365436\n",
            "Epochs 330, Train loss = 0.3429273029262653, validation loss = 0.36440366797195295\n",
            "Epochs 340, Train loss = 0.33739399851373064, validation loss = 0.3587469476510361\n",
            "Epochs 350, Train loss = 0.3321390139387038, validation loss = 0.3533629652517426\n",
            "Epochs 360, Train loss = 0.3271434891954054, validation loss = 0.34823352851238737\n",
            "Epochs 370, Train loss = 0.32239011473561463, validation loss = 0.3433419411421034\n",
            "Epochs 380, Train loss = 0.317862987379088, validation loss = 0.33867286179314676\n",
            "Epochs 390, Train loss = 0.3135474804159919, validation loss = 0.33421217733967024\n",
            "Epochs 400, Train loss = 0.3094301265421022, validation loss = 0.329946889028904\n",
            "Epochs 410, Train loss = 0.30549851237127545, validation loss = 0.32586501018582725\n",
            "Epochs 420, Train loss = 0.30174118337324535, validation loss = 0.32195547426864535\n",
            "Epochs 430, Train loss = 0.2981475581858135, validation loss = 0.31820805218572645\n",
            "Epochs 440, Train loss = 0.29470785134725724, validation loss = 0.3146132778924899\n",
            "Epochs 450, Train loss = 0.29141300358607614, validation loss = 0.3111623813874911\n",
            "Epochs 460, Train loss = 0.28825461889032306, validation loss = 0.3078472283197913\n",
            "Epochs 470, Train loss = 0.2852249076573413, validation loss = 0.3046602655043728\n",
            "Epochs 480, Train loss = 0.2823166352966811, validation loss = 0.3015944717189587\n",
            "Epochs 490, Train loss = 0.2795230757244172, validation loss = 0.2986433132244619\n",
            "Epochs 500, Train loss = 0.2768379692463129, validation loss = 0.2958007035129235\n",
            "Epochs 510, Train loss = 0.27425548438062247, validation loss = 0.2930609668417514\n",
            "Epochs 520, Train loss = 0.27177018321922625, validation loss = 0.2904188051619525\n",
            "Epochs 530, Train loss = 0.26937698996867737, validation loss = 0.287869268091433\n",
            "Epochs 540, Train loss = 0.26707116235106315, validation loss = 0.2854077256229154\n",
            "Epochs 550, Train loss = 0.2648482655787662, validation loss = 0.2830298432900854\n",
            "Epochs 560, Train loss = 0.262704148647676, validation loss = 0.2807315595457589\n",
            "Epochs 570, Train loss = 0.2606349227205262, validation loss = 0.27850906513256496\n",
            "Epochs 580, Train loss = 0.25863694139617144, validation loss = 0.27635878425029725\n",
            "Epochs 590, Train loss = 0.25670678268210034, validation loss = 0.2742773573450297\n",
            "Epochs 600, Train loss = 0.2548412325065961, validation loss = 0.27226162536366166\n",
            "Epochs 610, Train loss = 0.25303726962396367, validation loss = 0.27030861533401757\n",
            "Epochs 620, Train loss = 0.25129205178138747, validation loss = 0.26841552714523337\n",
            "Epochs 630, Train loss = 0.2496029030294735, validation loss = 0.26657972141613545\n",
            "Epochs 640, Train loss = 0.24796730207054068, validation loss = 0.2647987083508461\n",
            "Epochs 650, Train loss = 0.24638287154944716, validation loss = 0.26307013749110636\n",
            "Epochs 660, Train loss = 0.24484736820129122, validation loss = 0.26139178828393794\n",
            "Epochs 670, Train loss = 0.24335867377886106, validation loss = 0.25976156139140383\n",
            "Epochs 680, Train loss = 0.24191478669033067, validation loss = 0.25817747067648655\n",
            "Epochs 690, Train loss = 0.24051381428451066, validation loss = 0.2566376358055822\n",
            "Epochs 700, Train loss = 0.23915396572706243, validation loss = 0.25514027541390144\n",
            "Epochs 710, Train loss = 0.23783354541653876, validation loss = 0.25368370078524705\n",
            "Epochs 720, Train loss = 0.23655094689400435, validation loss = 0.252266310002277\n",
            "Epochs 730, Train loss = 0.23530464720437627, validation loss = 0.2508865825275173\n",
            "Epochs 740, Train loss = 0.2340932016715546, validation loss = 0.24954307417911678\n",
            "Epochs 750, Train loss = 0.23291523905295033, validation loss = 0.24823441246868222\n",
            "Epochs 760, Train loss = 0.23176945704219143, validation loss = 0.24695929227153995\n",
            "Epochs 770, Train loss = 0.23065461809164434, validation loss = 0.24571647180247652\n",
            "Epochs 780, Train loss = 0.22956954552895908, validation loss = 0.2445047688724415\n",
            "Epochs 790, Train loss = 0.22851311994416515, validation loss = 0.24332305740389595\n",
            "Epochs 800, Train loss = 0.22748427582593034, validation loss = 0.24217026418446236\n",
            "Epochs 810, Train loss = 0.226481998427485, validation loss = 0.24104536584032377\n",
            "Epochs 820, Train loss = 0.22550532084441297, validation loss = 0.23994738601243065\n",
            "Epochs 830, Train loss = 0.22455332128805267, validation loss = 0.2388753927200341\n",
            "Epochs 840, Train loss = 0.22362512053964426, validation loss = 0.23782849589738653\n",
            "Epochs 850, Train loss = 0.22271987957162076, validation loss = 0.23680584509064645\n",
            "Epochs 860, Train loss = 0.2218367973235844, validation loss = 0.2358066273031114\n",
            "Epochs 870, Train loss = 0.2209751086215471, validation loss = 0.2348300649778863\n",
            "Epochs 880, Train loss = 0.22013408222995842, validation loss = 0.2338754141079915\n",
            "Epochs 890, Train loss = 0.21931301902689676, validation loss = 0.23294196246472737\n",
            "Epochs 900, Train loss = 0.218511250293583, validation loss = 0.23202902793585406\n",
            "Epochs 910, Train loss = 0.21772813611008301, validation loss = 0.23113595696581882\n",
            "Epochs 920, Train loss = 0.2169630638497118, validation loss = 0.23026212309087998\n",
            "Epochs 930, Train loss = 0.21621544676524335, validation loss = 0.22940692556253545\n",
            "Epochs 940, Train loss = 0.21548472266056712, validation loss = 0.2285697880531795\n",
            "Epochs 950, Train loss = 0.21477035264192573, validation loss = 0.22775015743837657\n",
            "Epochs 960, Train loss = 0.21407181994331548, validation loss = 0.22694750265057315\n",
            "Epochs 970, Train loss = 0.21338862882104695, validation loss = 0.22616131359945796\n",
            "Epochs 980, Train loss = 0.21272030351283658, validation loss = 0.22539110015454167\n",
            "Epochs 990, Train loss = 0.2120663872571477, validation loss = 0.2246363911858582\n"
          ]
        }
      ]
    },
    {
      "cell_type": "code",
      "source": [],
      "metadata": {
        "id": "N65Q8m9Y0HKh"
      },
      "execution_count": null,
      "outputs": []
    }
  ]
}