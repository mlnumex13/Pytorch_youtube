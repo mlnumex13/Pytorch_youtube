{
  "nbformat": 4,
  "nbformat_minor": 0,
  "metadata": {
    "colab": {
      "provenance": []
    },
    "kernelspec": {
      "name": "python3",
      "display_name": "Python 3"
    },
    "language_info": {
      "name": "python"
    }
  },
  "cells": [
    {
      "cell_type": "code",
      "source": [
        "import torch"
      ],
      "metadata": {
        "id": "QXr_7nEe8dh4"
      },
      "execution_count": 5,
      "outputs": []
    },
    {
      "cell_type": "code",
      "source": [
        "def f(x):\n",
        "    return x**2 + 5*x - 8"
      ],
      "metadata": {
        "id": "QqlMtFcB9Afz"
      },
      "execution_count": 18,
      "outputs": []
    },
    {
      "cell_type": "code",
      "source": [
        "x = torch.tensor([2.0],requires_grad=True)"
      ],
      "metadata": {
        "id": "NGtOiL8a9Fpg"
      },
      "execution_count": 29,
      "outputs": []
    },
    {
      "cell_type": "code",
      "source": [
        "learning_rate = 0.01\n",
        "weight_decay  = 0.005\n",
        "learning_rate_decay = 0.001\n",
        "epsilon             = 0.00001"
      ],
      "metadata": {
        "id": "R4hoUOjn9L2Z"
      },
      "execution_count": 30,
      "outputs": []
    },
    {
      "cell_type": "code",
      "source": [
        "optimizer = torch.optim.Adagrad([x],\n",
        "                                lr = learning_rate,\n",
        "                                weight_decay = weight_decay,\n",
        "                                lr_decay = learning_rate_decay,\n",
        "                                eps = epsilon\n",
        "                                )"
      ],
      "metadata": {
        "id": "_z-WUoVG9zW-"
      },
      "execution_count": 31,
      "outputs": []
    },
    {
      "cell_type": "code",
      "source": [
        "num_iterations = 5000\n",
        "\n",
        "for i in range(num_iterations):\n",
        "\n",
        "    optimizer.zero_grad()\n",
        "    val  = f(x)\n",
        "    val.backward()\n",
        "    optimizer.step()\n",
        "\n",
        "    if i%500==0:\n",
        "        print(f\"Iteration {i+1}, value of f = {val.item()} and x = {x.item()}\")"
      ],
      "metadata": {
        "colab": {
          "base_uri": "https://localhost:8080/"
        },
        "id": "zDmP3sn__Cdg",
        "outputId": "0e071293-2e2d-440a-c66c-f5419afc9d8c"
      },
      "execution_count": 32,
      "outputs": [
        {
          "output_type": "stream",
          "name": "stdout",
          "text": [
            "Iteration 1, value of f = 6.0 and x = 1.9900000095367432\n",
            "Iteration 501, value of f = 2.809051513671875 and x = 1.629970669746399\n",
            "Iteration 1001, value of f = 1.958622932434082 and x = 1.5258405208587646\n",
            "Iteration 1501, value of f = 1.4667625427246094 and x = 1.4643375873565674\n",
            "Iteration 2001, value of f = 1.1333885192871094 and x = 1.4220943450927734\n",
            "Iteration 2501, value of f = 0.8877143859863281 and x = 1.3906664848327637\n",
            "Iteration 3001, value of f = 0.6968021392822266 and x = 1.3660653829574585\n",
            "Iteration 3501, value of f = 0.5428657531738281 and x = 1.3461132049560547\n",
            "Iteration 4001, value of f = 0.4152984619140625 and x = 1.329499363899231\n",
            "Iteration 4501, value of f = 0.3073244094848633 and x = 1.3153800964355469\n"
          ]
        }
      ]
    },
    {
      "cell_type": "code",
      "source": [
        "import torch\n",
        "\n",
        "def func_new(x,y):\n",
        "\n",
        "    return x**3 + y**3 + torch.cos(x+y)\n",
        "\n",
        "\n",
        "x = torch.tensor([2.0],requires_grad=True)\n",
        "y = torch.tensor([4.0],requires_grad= True)"
      ],
      "metadata": {
        "id": "OTyKbxAvBLlA"
      },
      "execution_count": 43,
      "outputs": []
    },
    {
      "cell_type": "code",
      "source": [
        "optimizer = torch.optim.Adagrad([x,y], lr = 0.09)"
      ],
      "metadata": {
        "id": "dtF6yvMJN4wf"
      },
      "execution_count": 44,
      "outputs": []
    },
    {
      "cell_type": "code",
      "source": [
        "num_iterations = 3000\n",
        "for i in range(num_iterations):\n",
        "    optimizer.zero_grad()\n",
        "    func_value = func_new(x,y)\n",
        "    func_value.backward()\n",
        "    optimizer.step()\n",
        "\n",
        "    if i%100==0:\n",
        "        print(f\"iteration = {i+1}, value of function = {func_value.item()}, X = {x.item()}, Y = {y.item()}\")\n",
        "\n",
        "print(f\"Final value = {func_value.item()}, X = {x.item()} and Y = {y.item()}\")"
      ],
      "metadata": {
        "colab": {
          "base_uri": "https://localhost:8080/"
        },
        "id": "kzSb-uN0OR2Z",
        "outputId": "07d4d8cf-b677-4611-be49-15d6d73b55f7"
      },
      "execution_count": 45,
      "outputs": [
        {
          "output_type": "stream",
          "name": "stdout",
          "text": [
            "iteration = 1, value of function = 72.96016693115234, X = 1.909999966621399, Y = 3.9100000858306885\n",
            "iteration = 101, value of function = 16.882221221923828, X = 0.8035615682601929, Y = 2.581413507461548\n",
            "iteration = 201, value of function = 8.954277038574219, X = 0.5972976684570312, Y = 2.1259305477142334\n",
            "iteration = 301, value of function = 5.680578231811523, X = 0.537013053894043, Y = 1.8395034074783325\n",
            "iteration = 401, value of function = 3.974940776824951, X = 0.5256850123405457, Y = 1.6353517770767212\n",
            "iteration = 501, value of function = 2.975342273712158, X = 0.5312950015068054, Y = 1.4803880453109741\n",
            "iteration = 601, value of function = 2.3458189964294434, X = 0.5415253043174744, Y = 1.3580965995788574\n",
            "iteration = 701, value of function = 1.9291876554489136, X = 0.5516074299812317, Y = 1.2589586973190308\n",
            "iteration = 801, value of function = 1.6429948806762695, X = 0.5599242448806763, Y = 1.176969051361084\n",
            "iteration = 901, value of function = 1.4405113458633423, X = 0.5661699771881104, Y = 1.1080955266952515\n",
            "iteration = 1001, value of function = 1.2937290668487549, X = 0.570539653301239, Y = 1.0495039224624634\n",
            "iteration = 1101, value of function = 1.1851277351379395, X = 0.5733754634857178, Y = 0.999133288860321\n",
            "iteration = 1201, value of function = 1.103359580039978, X = 0.575021505355835, Y = 0.9554437398910522\n",
            "iteration = 1301, value of function = 1.0408573150634766, X = 0.5757741332054138, Y = 0.9172582030296326\n",
            "iteration = 1401, value of function = 0.9924483895301819, X = 0.5758707523345947, Y = 0.8836610913276672\n",
            "iteration = 1501, value of function = 0.9545183181762695, X = 0.5754939913749695, Y = 0.8539284467697144\n",
            "iteration = 1601, value of function = 0.9244929552078247, X = 0.574783205986023, Y = 0.8274801969528198\n",
            "iteration = 1701, value of function = 0.9005069732666016, X = 0.573842465877533, Y = 0.8038452863693237\n",
            "iteration = 1801, value of function = 0.8811896443367004, X = 0.5727488398551941, Y = 0.782638430595398\n",
            "iteration = 1901, value of function = 0.8655178546905518, X = 0.5715596675872803, Y = 0.7635403275489807\n",
            "iteration = 2001, value of function = 0.8527201414108276, X = 0.5703168511390686, Y = 0.7462846040725708\n",
            "iteration = 2101, value of function = 0.8422067165374756, X = 0.5690509676933289, Y = 0.7306466698646545\n",
            "iteration = 2201, value of function = 0.8335230350494385, X = 0.5677855610847473, Y = 0.7164363861083984\n",
            "iteration = 2301, value of function = 0.8263155817985535, X = 0.5665363669395447, Y = 0.703491747379303\n",
            "iteration = 2401, value of function = 0.8203065395355225, X = 0.5653150677680969, Y = 0.6916735172271729\n",
            "iteration = 2501, value of function = 0.8152762055397034, X = 0.5641292929649353, Y = 0.6808617115020752\n",
            "iteration = 2601, value of function = 0.8110493421554565, X = 0.5629851222038269, Y = 0.6709518432617188\n",
            "iteration = 2701, value of function = 0.8074854612350464, X = 0.5618857741355896, Y = 0.6618532538414001\n",
            "iteration = 2801, value of function = 0.8044710159301758, X = 0.5608333349227905, Y = 0.6534860730171204\n",
            "iteration = 2901, value of function = 0.801913857460022, X = 0.5598286986351013, Y = 0.6457804441452026\n",
            "Final value = 0.799759030342102, X = 0.5588814616203308 and Y = 0.638742983341217\n"
          ]
        }
      ]
    },
    {
      "cell_type": "code",
      "source": [
        "import torch"
      ],
      "metadata": {
        "id": "BA5O5U8MO7Lg"
      },
      "execution_count": 46,
      "outputs": []
    },
    {
      "cell_type": "code",
      "source": [
        "w1 = torch.tensor([1.0],requires_grad=True)\n",
        "w2 = torch.tensor([1.0],requires_grad=True)"
      ],
      "metadata": {
        "id": "bAWphVeBTBZ0"
      },
      "execution_count": 48,
      "outputs": []
    },
    {
      "cell_type": "code",
      "source": [
        "def func(w1,w2):\n",
        "    equation = torch.stack([\n",
        "                        2*w1 + 3*w2 -8,\n",
        "                        4*w1-w2-6\n",
        "    ])\n",
        "    return equation\n"
      ],
      "metadata": {
        "id": "aeRS3jZWTHdU"
      },
      "execution_count": 49,
      "outputs": []
    },
    {
      "cell_type": "code",
      "source": [
        "optimizer = torch.optim.Adagrad([w1,w2],lr = 0.01)"
      ],
      "metadata": {
        "id": "9ExuvoUkTjf7"
      },
      "execution_count": 50,
      "outputs": []
    },
    {
      "cell_type": "code",
      "source": [
        "num_iterations = 1000\n",
        "for i in range(num_iterations):\n",
        "    optimizer.zero_grad()\n",
        "\n",
        "    equations = func(w1,w2)\n",
        "\n",
        "    loss_value = torch.sum(equations**2)\n",
        "\n",
        "    loss_value.backward()\n",
        "\n",
        "    optimizer.step()\n",
        "\n",
        "    if i%100==0:\n",
        "        print(f\"iteration = {i+1}, Loss = {loss_value.item()}, w1 = {w1.item()} and w2 = {w2.item()}\")"
      ],
      "metadata": {
        "colab": {
          "base_uri": "https://localhost:8080/"
        },
        "id": "WKWlRGykTn5t",
        "outputId": "c4fcb474-7546-4c39-c71d-d55557d6232e"
      },
      "execution_count": 51,
      "outputs": [
        {
          "output_type": "stream",
          "name": "stdout",
          "text": [
            "iteration = 1, Loss = 18.0, w1 = 1.0099999904632568 and w2 = 1.0099999904632568\n",
            "iteration = 101, Loss = 10.594589233398438, w1 = 1.1784998178482056 and w2 = 1.1724343299865723\n",
            "iteration = 201, Loss = 8.1723051071167, w1 = 1.2517231702804565 and w2 = 1.2382625341415405\n",
            "iteration = 301, Loss = 6.627371788024902, w1 = 1.3055263757705688 and w2 = 1.2838242053985596\n",
            "iteration = 401, Loss = 5.516129493713379, w1 = 1.3491225242614746 and w2 = 1.3184975385665894\n",
            "iteration = 501, Loss = 4.668509483337402, w1 = 1.3861175775527954 and w2 = 1.3460036516189575\n",
            "iteration = 601, Loss = 3.998400926589966, w1 = 1.4183766841888428 and w2 = 1.3683042526245117\n",
            "iteration = 701, Loss = 3.4554967880249023, w1 = 1.447013258934021 and w2 = 1.386602759361267\n",
            "iteration = 801, Loss = 3.0076167583465576, w1 = 1.4727587699890137 and w2 = 1.401710867881775\n",
            "iteration = 901, Loss = 2.632918357849121, w1 = 1.496124029159546 and w2 = 1.4142152070999146\n"
          ]
        }
      ]
    },
    {
      "cell_type": "code",
      "source": [
        "print(loss_value.item())"
      ],
      "metadata": {
        "colab": {
          "base_uri": "https://localhost:8080/"
        },
        "id": "wwbEhV6aUd9h",
        "outputId": "b48e96ee-a2b5-4aa6-da22-f2bbdcce8500"
      },
      "execution_count": 52,
      "outputs": [
        {
          "output_type": "stream",
          "name": "stdout",
          "text": [
            "2.3188059329986572\n"
          ]
        }
      ]
    },
    {
      "cell_type": "code",
      "source": [],
      "metadata": {
        "id": "JTOf0Q7rWRWH"
      },
      "execution_count": null,
      "outputs": []
    },
    {
      "cell_type": "code",
      "source": [],
      "metadata": {
        "id": "TbkP6UMzWRY8"
      },
      "execution_count": null,
      "outputs": []
    },
    {
      "cell_type": "code",
      "source": [],
      "metadata": {
        "id": "LzFsdlWUWRb2"
      },
      "execution_count": null,
      "outputs": []
    },
    {
      "cell_type": "code",
      "source": [
        "from sklearn.datasets import make_regression\n",
        "\n",
        "import torch\n",
        "import torch.nn as nn\n",
        "from torch.utils.data import Dataset, DataLoader\n",
        "\n",
        "from sklearn.model_selection import train_test_split\n",
        "X,y = make_regression(n_samples  = 10000,\n",
        "                      n_features = 1500,\n",
        "                      noise      = 0.3\n",
        "                      )\n"
      ],
      "metadata": {
        "id": "_Lnhw_piWRfN"
      },
      "execution_count": 1,
      "outputs": []
    },
    {
      "cell_type": "code",
      "source": [
        "class CustomDataset(Dataset):\n",
        "\n",
        "    def __init__(self,X,y):\n",
        "        self.X = torch.tensor(X, dtype= torch.float32)\n",
        "        self.y = torch.tensor(y, dtype= torch.float32).view(-1,1)\n",
        "\n",
        "    def __len__(self):\n",
        "        return len(self.y)\n",
        "\n",
        "    def __getitem__(self,idx):\n",
        "        return self.X[idx], self.y[idx]\n",
        "\n",
        "\n",
        "X_train, X_valid, y_train, y_valid = train_test_split(X,y, test_size=0.2, random_state=13)\n"
      ],
      "metadata": {
        "id": "9f5gQEqzWT8U"
      },
      "execution_count": 2,
      "outputs": []
    },
    {
      "cell_type": "code",
      "source": [
        "train_dataset = CustomDataset(X_train,y_train)\n",
        "test_dataset  = CustomDataset(X_valid,y_valid)\n",
        "train_data_loader = DataLoader(train_dataset, batch_size = 64, shuffle = True)\n",
        "test_data_loader  = DataLoader(test_dataset, batch_size = 64, shuffle = False)\n"
      ],
      "metadata": {
        "id": "yAX0jCo7WV2q"
      },
      "execution_count": 3,
      "outputs": []
    },
    {
      "cell_type": "code",
      "source": [
        "class TabularRegression(nn.Module):\n",
        "\n",
        "    def __init__(self,input_dim, output_dim):\n",
        "\n",
        "        super(TabularRegression,self).__init__()\n",
        "\n",
        "        self.fc = nn.Linear(input_dim,output_dim, dtype = torch.float32)\n",
        "\n",
        "    def forward(self,x):\n",
        "        return self.fc(x)\n",
        "\n"
      ],
      "metadata": {
        "id": "awB4y8qQWYjN"
      },
      "execution_count": 4,
      "outputs": []
    },
    {
      "cell_type": "code",
      "source": [
        "model       = TabularRegression(1500,1)\n",
        "criterion   = nn.MSELoss(reduction = 'sum')\n",
        "optimizer   = torch.optim.Adagrad(model.parameters(), lr=0.0001,lr_decay= 0.09)\n",
        "num_epochs  = 10\n"
      ],
      "metadata": {
        "id": "cP8H8I2qWaPM"
      },
      "execution_count": 18,
      "outputs": []
    },
    {
      "cell_type": "code",
      "source": [
        "\n",
        "for epoch in range(num_epochs):\n",
        "\n",
        "    model.train()\n",
        "    train_loss = 0.0\n",
        "\n",
        "    for batch in train_data_loader:\n",
        "        inputs,targets = batch\n",
        "        optimizer.zero_grad()\n",
        "        outputs = model(inputs)\n",
        "        loss    = criterion(outputs,targets)\n",
        "        loss.backward()\n",
        "        optimizer.step()\n",
        "\n",
        "        train_loss += loss.item()\n",
        "\n",
        "    model.eval()\n",
        "    valid_loss = 0.0\n",
        "    with torch.no_grad():\n",
        "        for batch in test_data_loader:\n",
        "            inputs,targets = batch\n",
        "            outputs = model(inputs)\n",
        "            loss = criterion(targets,outputs)\n",
        "            valid_loss += loss.item()\n",
        "\n",
        "\n",
        "    train_loss = train_loss/len(train_dataset)\n",
        "    valid_loss = valid_loss/len(test_dataset)\n",
        "\n",
        "\n",
        "    print(f'Epoch = {epoch+1}, train loss = {train_loss} and validation loss = {valid_loss}')"
      ],
      "metadata": {
        "colab": {
          "base_uri": "https://localhost:8080/"
        },
        "id": "9ER_X2CKUkKx",
        "outputId": "c93c0f13-5734-4923-ad1f-95863c885f56"
      },
      "execution_count": 19,
      "outputs": [
        {
          "output_type": "stream",
          "name": "stdout",
          "text": [
            "Epoch = 1, train loss = 35086.41928125 and validation loss = 34252.77253125\n",
            "Epoch = 2, train loss = 35064.403296875 and validation loss = 34244.39965625\n",
            "Epoch = 3, train loss = 35052.460890625 and validation loss = 34237.990125\n",
            "Epoch = 4, train loss = 35043.006515625 and validation loss = 34232.5710625\n",
            "Epoch = 5, train loss = 35034.910671875 and validation loss = 34227.80971875\n",
            "Epoch = 6, train loss = 35027.741609375 and validation loss = 34223.51096875\n",
            "Epoch = 7, train loss = 35021.22296875 and validation loss = 34219.5630625\n",
            "Epoch = 8, train loss = 35015.20384375 and validation loss = 34215.88565625\n",
            "Epoch = 9, train loss = 35009.5856875 and validation loss = 34212.42671875\n",
            "Epoch = 10, train loss = 35004.310046875 and validation loss = 34209.16296875\n"
          ]
        }
      ]
    },
    {
      "cell_type": "code",
      "source": [
        "model = TabularRegression(1500, 1)\n",
        "criterion = nn.MSELoss(reduction='sum')\n",
        "\n",
        "# Adjusted learning rate for Adagrad\n",
        "optimizer = torch.optim.SGD(model.parameters(), lr=0.001)\n",
        "num_epochs = 10\n",
        "\n",
        "for epoch in range(num_epochs):\n",
        "    model.train()\n",
        "    train_loss = 0.0\n",
        "\n",
        "    for batch in train_data_loader:\n",
        "        inputs, targets = batch\n",
        "        optimizer.zero_grad()\n",
        "        outputs = model(inputs)\n",
        "        loss = criterion(outputs, targets)\n",
        "        loss.backward()\n",
        "        optimizer.step()\n",
        "\n",
        "        train_loss += loss.item()\n",
        "\n",
        "    model.eval()\n",
        "    valid_loss = 0.0\n",
        "\n",
        "    with torch.no_grad():\n",
        "        for batch in test_data_loader:\n",
        "            inputs, targets = batch\n",
        "            outputs = model(inputs)\n",
        "            loss = criterion(outputs, targets)\n",
        "            valid_loss += loss.item()\n",
        "\n",
        "    train_loss = train_loss / len(train_dataset)\n",
        "    valid_loss = valid_loss / len(test_dataset)\n",
        "\n",
        "    print(f'Epoch = {epoch + 1}, train loss = {train_loss} and validation loss = {valid_loss}')\n"
      ],
      "metadata": {
        "colab": {
          "base_uri": "https://localhost:8080/"
        },
        "id": "r3cmbivyVU4l",
        "outputId": "0cc8853a-685a-47ea-dd37-5b4326f6d70d"
      },
      "execution_count": 20,
      "outputs": [
        {
          "output_type": "stream",
          "name": "stdout",
          "text": [
            "Epoch = 1, train loss = 33025188930.371906 and validation loss = 562939551023.104\n",
            "Epoch = 2, train loss = 8.732108386147174e+17 and validation loss = 1.4949190891927306e+19\n",
            "Epoch = 3, train loss = 1.365713101454254e+25 and validation loss = 2.5153787133150776e+26\n",
            "Epoch = 4, train loss = 3.8686534584588716e+32 and validation loss = 7.121568513781335e+33\n",
            "Epoch = 5, train loss = inf and validation loss = inf\n",
            "Epoch = 6, train loss = inf and validation loss = inf\n",
            "Epoch = 7, train loss = inf and validation loss = inf\n",
            "Epoch = 8, train loss = inf and validation loss = inf\n",
            "Epoch = 9, train loss = inf and validation loss = inf\n",
            "Epoch = 10, train loss = nan and validation loss = nan\n"
          ]
        }
      ]
    },
    {
      "cell_type": "code",
      "source": [],
      "metadata": {
        "id": "qFC-TgHcaEpb"
      },
      "execution_count": null,
      "outputs": []
    }
  ]
}